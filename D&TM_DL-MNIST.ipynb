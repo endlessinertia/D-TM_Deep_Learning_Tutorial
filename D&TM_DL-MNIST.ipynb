{
 "cells": [
  {
   "cell_type": "code",
   "execution_count": 1,
   "metadata": {
    "collapsed": false
   },
   "outputs": [],
   "source": [
    "'''\n",
    "Notebook created by: Gabriele Sottocornola\n",
    "for the M.Sc. class of Data & Text Mining\n",
    "Università degli studi di Milano-bicocca\n",
    "'''\n",
    "import tensorflow as tf\n",
    "import pandas as pd\n",
    "import numpy as np\n",
    "import matplotlib.pyplot as plt"
   ]
  },
  {
   "cell_type": "markdown",
   "metadata": {},
   "source": [
    "This python notebook guides you step-by-step through the construction of your first neural network models to adress the well-known MNIST task.\n",
    "You will see how to import and pre-process data in order to feed them into a neural network classification model.\n",
    "You will see how to contruct the two standard neural network models, namely feedforward neural network (FNN) and convolutional neural network (CNN) and you will perform simple evaluation on the classification accuracy of the two models with respect to the task of digit recognition."
   ]
  },
  {
   "cell_type": "markdown",
   "metadata": {},
   "source": [
    "### Utility Functions"
   ]
  },
  {
   "cell_type": "code",
   "execution_count": 2,
   "metadata": {
    "collapsed": true
   },
   "outputs": [],
   "source": [
    "def show_digit(gs_arr):\n",
    "    gs_arr = np.reshape(gs_arr, (28, 28))\n",
    "    plt.imshow(gs_arr, cmap='Greys')\n",
    "    plt.show()"
   ]
  },
  {
   "cell_type": "code",
   "execution_count": 3,
   "metadata": {
    "collapsed": true
   },
   "outputs": [],
   "source": [
    "def plot_error(train_error_list, test_error_list, step_list):    \n",
    "    train_err, = plt.plot(step_list, train_error_list, 'r-', label='Train set')\n",
    "    test_err, = plt.plot(step_list, test_error_list, 'b-', label='Test set')\n",
    "    plt.legend(handles=[train_err, test_err])\n",
    "    plt.xlabel('Training iteration')\n",
    "    plt.ylabel('Cross-entropy')\n",
    "    plt.show()\n",
    "    plt.gcf().clear()"
   ]
  },
  {
   "cell_type": "code",
   "execution_count": 4,
   "metadata": {
    "collapsed": true
   },
   "outputs": [],
   "source": [
    "def weight_variable(shape):\n",
    "    initial = tf.truncated_normal(shape, stddev=0.1)\n",
    "    return tf.Variable(initial)\n",
    "\n",
    "def bias_variable(shape):\n",
    "    initial = tf.constant(0.1, shape=shape)\n",
    "    return tf.Variable(initial)"
   ]
  },
  {
   "cell_type": "code",
   "execution_count": 5,
   "metadata": {
    "collapsed": true
   },
   "outputs": [],
   "source": [
    "def conv2d(x, W):\n",
    "    return tf.nn.conv2d(x, W, strides=[1, 1, 1, 1], padding='SAME')\n",
    "\n",
    "def max_pool_2x2(x):\n",
    "    return tf.nn.max_pool(x, ksize=[1, 2, 2, 1], strides=[1, 2, 2, 1], padding='SAME')"
   ]
  },
  {
   "cell_type": "markdown",
   "metadata": {},
   "source": [
    "### Data Import"
   ]
  },
  {
   "cell_type": "code",
   "execution_count": 6,
   "metadata": {
    "collapsed": false
   },
   "outputs": [],
   "source": [
    "data_df = pd.read_csv('.\\\\data\\\\MNIST.csv', header=0) # global MNIST dataframe\n",
    "data_df = data_df.sample(frac=1) # shuffle data\n",
    "label_df = data_df['label'] # extract label dataframe\n",
    "label_df = pd.get_dummies(label_df) # one hot encoding of label dataframe\n",
    "data_df = data_df.drop('label', axis=1)\n",
    "\n",
    "num_instances = data_df.shape[0]\n",
    "msk = np.random.rand(num_instances) < 0.8 # split train-test ratio\n",
    "\n",
    "# hold-out split of the data\n",
    "train_df = data_df[msk]\n",
    "test_df = data_df[~msk]\n",
    "train_label_df = label_df[msk]\n",
    "test_label_df = label_df[~msk]"
   ]
  },
  {
   "cell_type": "code",
   "execution_count": 7,
   "metadata": {
    "collapsed": false
   },
   "outputs": [
    {
     "data": {
      "image/png": "[encoded data removed]",
      "text/plain": [
       "<matplotlib.figure.Figure at 0x17ed3517b38>"
      ]
     },
     "metadata": {},
     "output_type": "display_data"
    }
   ],
   "source": [
    "show_digit(train_df.iloc[1].tolist())"
   ]
  },
  {
   "cell_type": "code",
   "execution_count": 8,
   "metadata": {
    "collapsed": false
   },
   "outputs": [
    {
     "name": "stdout",
     "output_type": "stream",
     "text": [
      "(33582, 784)\n",
      "(8418, 784)\n"
     ]
    }
   ],
   "source": [
    "print(train_df.shape)\n",
    "print(test_df.shape)"
   ]
  },
  {
   "cell_type": "markdown",
   "metadata": {},
   "source": [
    "## MNIST - FNN"
   ]
  },
  {
   "cell_type": "markdown",
   "metadata": {},
   "source": [
    "The model is a very simple FNN without any hidden layer. It only consists on one input layer with one neuron for each feature (pixel) of the image and one output layer with ten output neurons, one for each class (digits from 0 to 9)."
   ]
  },
  {
   "cell_type": "code",
   "execution_count": 10,
   "metadata": {
    "collapsed": true
   },
   "outputs": [],
   "source": [
    "# MODEL CONSTRUCTION (COMPUTATION GRAPH)\n",
    "x = tf.placeholder(tf.float32, [None, 784])  # input data\n",
    "W = weight_variable([784, 10])\n",
    "b = bias_variable([10])\n",
    "y = tf.matmul(x, W) + b  # predicted distribution tensor\n",
    "y_ = tf.placeholder(tf.float32, [None, 10])  # target class"
   ]
  },
  {
   "cell_type": "code",
   "execution_count": 11,
   "metadata": {
    "collapsed": false
   },
   "outputs": [],
   "source": [
    "# LOSS FUNCTION AND TRAINING STEP\n",
    "cross_entropy = tf.reduce_mean(tf.nn.softmax_cross_entropy_with_logits(logits=y, labels=y_)) # cross entropy loss function\n",
    "train_step = tf.train.AdamOptimizer(1e-4).minimize(cross_entropy)\n",
    "\n",
    "# EVALUATION\n",
    "prediction = tf.argmax(y, 1) # predicted class\n",
    "correct_prediction = tf.equal(prediction, tf.argmax(y_, 1))\n",
    "accuracy = tf.reduce_mean(tf.cast(correct_prediction, tf.float32)) # computed accuracy"
   ]
  },
  {
   "cell_type": "code",
   "execution_count": 13,
   "metadata": {
    "collapsed": false
   },
   "outputs": [
    {
     "name": "stdout",
     "output_type": "stream",
     "text": [
      "step 100, training accuracy 0.259766\n",
      "step 200, training accuracy 0.394531\n",
      "step 300, training accuracy 0.503906\n",
      "step 400, training accuracy 0.613281\n",
      "step 500, training accuracy 0.648438\n",
      "step 600, training accuracy 0.699219\n",
      "step 700, training accuracy 0.699219\n",
      "step 800, training accuracy 0.755859\n",
      "step 900, training accuracy 0.738281\n",
      "step 1000, training accuracy 0.744141\n",
      "test accuracy 0.766833\n"
     ]
    }
   ],
   "source": [
    "# COMPUTATION PHASE\n",
    "num_iter = 1000\n",
    "batch_size = 512\n",
    "\n",
    "sess = tf.InteractiveSession()\n",
    "sess.run(tf.global_variables_initializer())\n",
    "\n",
    "# stochastic mini-batch learning\n",
    "i = 1\n",
    "while i <= num_iter:\n",
    "    idx = np.random.choice(np.arange(train_df.shape[0]), batch_size, replace=False)\n",
    "    batch_xs = train_df.iloc[idx]\n",
    "    batch_ys = train_label_df.iloc[idx]\n",
    "    \n",
    "    if i%100 == 0:\n",
    "        train_accuracy = accuracy.eval(feed_dict={x: batch_xs, y_: batch_ys})\n",
    "        print(\"step %d, training accuracy %g\"%(i, train_accuracy))\n",
    "    train_step.run(feed_dict={x: batch_xs, y_: batch_ys})\n",
    "    i += 1\n",
    "\n",
    "print(\"test accuracy %g\" % accuracy.eval(feed_dict={x: test_df, y_: test_label_df}))"
   ]
  },
  {
   "cell_type": "markdown",
   "metadata": {
    "collapsed": true
   },
   "source": [
    "## MNIST - CNN"
   ]
  },
  {
   "cell_type": "markdown",
   "metadata": {},
   "source": [
    "This model is much more complex than the previous one. We have exactly the same input (reshaped in a 2D fashion 28x28) but then we stack:\n",
    "+ a convolutional layer with a size of 5x5 and 32 output filters\n",
    "+ a max-pooling layer 2x2\n",
    "+ a convolutional layer with a size of 5x5 and 64 output filters\n",
    "+ a max-pooling layer 2x2\n",
    "+ a fully connected layer with 1024 output neurons\n",
    "+ a dropout layer with a drop probability of 0.5\n",
    "+ the final output layer that receives 1024 features as input and output the 10 classes"
   ]
  },
  {
   "cell_type": "code",
   "execution_count": 9,
   "metadata": {
    "collapsed": false
   },
   "outputs": [],
   "source": [
    "# MODEL CONSTRUCTION (COMPUTATION GRAPH)\n",
    "x = tf.placeholder(tf.float32, [None, 784])  # input data\n",
    "y_ = tf.placeholder(tf.float32, [None, 10])  # target class\n",
    "\n",
    "x_image = tf.reshape(x, [-1, 28, 28, 1]) # reshape 2d data\n",
    "\n",
    "W_conv1 = weight_variable([5, 5, 1, 32])\n",
    "b_conv1 = bias_variable([32])\n",
    "\n",
    "h_conv1 = tf.nn.relu(conv2d(x_image, W_conv1) + b_conv1)\n",
    "h_pool1 = max_pool_2x2(h_conv1)\n",
    "\n",
    "W_conv2 = weight_variable([5, 5, 32, 64])\n",
    "b_conv2 = bias_variable([64])\n",
    "\n",
    "h_conv2 = tf.nn.relu(conv2d(h_pool1, W_conv2) + b_conv2)\n",
    "h_pool2 = max_pool_2x2(h_conv2)\n",
    "\n",
    "W_fc1 = weight_variable([7 * 7 * 64, 1024])\n",
    "b_fc1 = bias_variable([1024])\n",
    "\n",
    "h_pool2_flat = tf.reshape(h_pool2, [-1, 7 * 7 * 64])\n",
    "h_fc1 = tf.nn.relu(tf.matmul(h_pool2_flat, W_fc1) + b_fc1)\n",
    "\n",
    "keep_prob = tf.placeholder(tf.float32)\n",
    "h_fc1_drop = tf.nn.dropout(h_fc1, keep_prob)\n",
    "\n",
    "W_fc2 = weight_variable([1024, 10])\n",
    "b_fc2 = bias_variable([10])\n",
    "\n",
    "y_conv = tf.matmul(h_fc1_drop, W_fc2) + b_fc2"
   ]
  },
  {
   "cell_type": "code",
   "execution_count": 10,
   "metadata": {
    "collapsed": true
   },
   "outputs": [],
   "source": [
    "# LOSS FUNCTION AND TRAINING STEP\n",
    "cross_entropy = tf.reduce_mean(tf.nn.softmax_cross_entropy_with_logits(logits=y_conv, labels=y_)) # cross entropy loss function\n",
    "train_step = tf.train.AdamOptimizer(1e-4).minimize(cross_entropy)\n",
    "\n",
    "# EVALUATION\n",
    "prediction = tf.argmax(y_conv, 1) #predicted class\n",
    "correct_prediction = tf.equal(prediction, tf.argmax(y_, 1))\n",
    "accuracy = tf.reduce_mean(tf.cast(correct_prediction, tf.float32)) # computed accuracy"
   ]
  },
  {
   "cell_type": "code",
   "execution_count": 11,
   "metadata": {
    "collapsed": false
   },
   "outputs": [
    {
     "name": "stdout",
     "output_type": "stream",
     "text": [
      "step 100, training accuracy 0.923828\n",
      "step 200, training accuracy 0.935547\n",
      "step 300, training accuracy 0.972656\n",
      "step 400, training accuracy 0.974609\n",
      "step 500, training accuracy 0.964844\n",
      "step 600, training accuracy 0.982422\n",
      "step 700, training accuracy 0.96875\n",
      "step 800, training accuracy 0.976562\n",
      "step 900, training accuracy 0.982422\n",
      "step 1000, training accuracy 0.986328\n",
      "test accuracy 0.966738\n"
     ]
    }
   ],
   "source": [
    "# COMPUTATION PHASE\n",
    "num_iter = 1000\n",
    "batch_size = 512\n",
    "\n",
    "sess = tf.InteractiveSession()\n",
    "sess.run(tf.global_variables_initializer())\n",
    "\n",
    "train_error_list = list()\n",
    "test_error_list = list()\n",
    "step_list = list()\n",
    "\n",
    "i = 1\n",
    "while i <= num_iter:\n",
    "    idx = np.random.choice(np.arange(train_df.shape[0]), batch_size, replace=False)\n",
    "    batch_xs = train_df.iloc[idx]\n",
    "    batch_ys = train_label_df.iloc[idx]\n",
    "    \n",
    "    if i%100 == 0:\n",
    "        train_accuracy = accuracy.eval(feed_dict={x: batch_xs, y_: batch_ys, keep_prob: 1.0})\n",
    "        print(\"step %d, training accuracy %g\"%(i, train_accuracy))\n",
    "        \n",
    "        train_err = cross_entropy.eval(feed_dict={x: batch_xs, y_: batch_ys, keep_prob: 1.0})\n",
    "        test_err = cross_entropy.eval(feed_dict={x: test_df, y_: test_label_df, keep_prob: 1.0})\n",
    "        train_error_list.append(train_err)\n",
    "        test_error_list.append(test_err)\n",
    "        step_list.append(i)\n",
    "        \n",
    "    train_step.run(feed_dict={x: batch_xs, y_: batch_ys, keep_prob: 0.5})\n",
    "    i += 1\n",
    "\n",
    "print(\"test accuracy %g\" % accuracy.eval(feed_dict={x: test_df, y_: test_label_df, keep_prob: 1.0}))"
   ]
  },
  {
   "cell_type": "code",
   "execution_count": 12,
   "metadata": {
    "collapsed": false
   },
   "outputs": [
    {
     "data": {
      "image/png": "[encoded data removed]",
      "text/plain": [
       "<matplotlib.figure.Figure at 0x17ed34f4e48>"
      ]
     },
     "metadata": {},
     "output_type": "display_data"
    }
   ],
   "source": [
    "plot_error(train_error_list, test_error_list, step_list)"
   ]
  },
  {
   "cell_type": "code",
   "execution_count": null,
   "metadata": {
    "collapsed": true
   },
   "outputs": [],
   "source": [
    "##########################################################################################################################"
   ]
  },
  {
   "cell_type": "markdown",
   "metadata": {},
   "source": [
    "## Take-aways\n",
    "\n",
    "+ MNIST is the \"hello world\" task for machine learning image recognition\n",
    "\n",
    "+ Very simple FNN achieves decent results on MNIST task\n",
    "\n",
    "+ CNN strongly outperforms FNN in image recognition task\n",
    "\n",
    "+ Few tricks from the \"flat\" NN model, i.e. convolution, max-pooling, dropout"
   ]
  },
  {
   "cell_type": "code",
   "execution_count": null,
   "metadata": {
    "collapsed": true
   },
   "outputs": [],
   "source": []
  }
 ],
 "metadata": {
  "anaconda-cloud": {},
  "kernelspec": {
   "display_name": "Python [conda root]",
   "language": "python",
   "name": "conda-root-py"
  },
  "language_info": {
   "codemirror_mode": {
    "name": "ipython",
    "version": 3
   },
   "file_extension": ".py",
   "mimetype": "text/x-python",
   "name": "python",
   "nbconvert_exporter": "python",
   "pygments_lexer": "ipython3",
   "version": "3.5.2"
  }
 },
 "nbformat": 4,
 "nbformat_minor": 1
}
